{
 "cells": [
  {
   "cell_type": "code",
   "execution_count": 88,
   "metadata": {},
   "outputs": [],
   "source": [
    "import pandas as pd\n",
    "import numpy as np\n",
    "import matplotlib.pyplot as plt\n",
    "%matplotlib inline"
   ]
  },
  {
   "cell_type": "code",
   "execution_count": 61,
   "metadata": {},
   "outputs": [],
   "source": [
    "pd.options.display.max_rows = 10\n",
    "pd.options.display.float_format = '{:,.2f}'.format #supress scientific notation\n",
    "plt.rcParams['figure.figsize'] = (16,8)"
   ]
  },
  {
   "cell_type": "code",
   "execution_count": 62,
   "metadata": {},
   "outputs": [],
   "source": [
    "df = pd.read_csv(\"Dataset/avocado.csv\",index_col='Date')\n",
    "df.index = pd.to_datetime(df.index)"
   ]
  },
  {
   "cell_type": "code",
   "execution_count": 63,
   "metadata": {},
   "outputs": [
    {
     "data": {
      "text/html": [
       "<div>\n",
       "<style>\n",
       "    .dataframe thead tr:only-child th {\n",
       "        text-align: right;\n",
       "    }\n",
       "\n",
       "    .dataframe thead th {\n",
       "        text-align: left;\n",
       "    }\n",
       "\n",
       "    .dataframe tbody tr th {\n",
       "        vertical-align: top;\n",
       "    }\n",
       "</style>\n",
       "<table border=\"1\" class=\"dataframe\">\n",
       "  <thead>\n",
       "    <tr style=\"text-align: right;\">\n",
       "      <th></th>\n",
       "      <th>AveragePrice</th>\n",
       "      <th>Total Volume</th>\n",
       "      <th>4046</th>\n",
       "      <th>4225</th>\n",
       "      <th>4770</th>\n",
       "      <th>Total Bags</th>\n",
       "      <th>Small Bags</th>\n",
       "      <th>Large Bags</th>\n",
       "      <th>XLarge Bags</th>\n",
       "      <th>type</th>\n",
       "      <th>year</th>\n",
       "      <th>region</th>\n",
       "    </tr>\n",
       "    <tr>\n",
       "      <th>Date</th>\n",
       "      <th></th>\n",
       "      <th></th>\n",
       "      <th></th>\n",
       "      <th></th>\n",
       "      <th></th>\n",
       "      <th></th>\n",
       "      <th></th>\n",
       "      <th></th>\n",
       "      <th></th>\n",
       "      <th></th>\n",
       "      <th></th>\n",
       "      <th></th>\n",
       "    </tr>\n",
       "  </thead>\n",
       "  <tbody>\n",
       "    <tr>\n",
       "      <th>2015-12-27</th>\n",
       "      <td>1.33</td>\n",
       "      <td>64,236.62</td>\n",
       "      <td>1,036.74</td>\n",
       "      <td>54,454.85</td>\n",
       "      <td>48.16</td>\n",
       "      <td>8,696.87</td>\n",
       "      <td>8,603.62</td>\n",
       "      <td>93.25</td>\n",
       "      <td>0.00</td>\n",
       "      <td>conventional</td>\n",
       "      <td>2015</td>\n",
       "      <td>Albany</td>\n",
       "    </tr>\n",
       "    <tr>\n",
       "      <th>2015-12-20</th>\n",
       "      <td>1.35</td>\n",
       "      <td>54,876.98</td>\n",
       "      <td>674.28</td>\n",
       "      <td>44,638.81</td>\n",
       "      <td>58.33</td>\n",
       "      <td>9,505.56</td>\n",
       "      <td>9,408.07</td>\n",
       "      <td>97.49</td>\n",
       "      <td>0.00</td>\n",
       "      <td>conventional</td>\n",
       "      <td>2015</td>\n",
       "      <td>Albany</td>\n",
       "    </tr>\n",
       "    <tr>\n",
       "      <th>2015-12-13</th>\n",
       "      <td>0.93</td>\n",
       "      <td>118,220.22</td>\n",
       "      <td>794.70</td>\n",
       "      <td>109,149.67</td>\n",
       "      <td>130.50</td>\n",
       "      <td>8,145.35</td>\n",
       "      <td>8,042.21</td>\n",
       "      <td>103.14</td>\n",
       "      <td>0.00</td>\n",
       "      <td>conventional</td>\n",
       "      <td>2015</td>\n",
       "      <td>Albany</td>\n",
       "    </tr>\n",
       "    <tr>\n",
       "      <th>2015-12-06</th>\n",
       "      <td>1.08</td>\n",
       "      <td>78,992.15</td>\n",
       "      <td>1,132.00</td>\n",
       "      <td>71,976.41</td>\n",
       "      <td>72.58</td>\n",
       "      <td>5,811.16</td>\n",
       "      <td>5,677.40</td>\n",
       "      <td>133.76</td>\n",
       "      <td>0.00</td>\n",
       "      <td>conventional</td>\n",
       "      <td>2015</td>\n",
       "      <td>Albany</td>\n",
       "    </tr>\n",
       "    <tr>\n",
       "      <th>2015-11-29</th>\n",
       "      <td>1.28</td>\n",
       "      <td>51,039.60</td>\n",
       "      <td>941.48</td>\n",
       "      <td>43,838.39</td>\n",
       "      <td>75.78</td>\n",
       "      <td>6,183.95</td>\n",
       "      <td>5,986.26</td>\n",
       "      <td>197.69</td>\n",
       "      <td>0.00</td>\n",
       "      <td>conventional</td>\n",
       "      <td>2015</td>\n",
       "      <td>Albany</td>\n",
       "    </tr>\n",
       "  </tbody>\n",
       "</table>\n",
       "</div>"
      ],
      "text/plain": [
       "            AveragePrice  Total Volume     4046       4225   4770  Total Bags  \\\n",
       "Date                                                                            \n",
       "2015-12-27          1.33     64,236.62 1,036.74  54,454.85  48.16    8,696.87   \n",
       "2015-12-20          1.35     54,876.98   674.28  44,638.81  58.33    9,505.56   \n",
       "2015-12-13          0.93    118,220.22   794.70 109,149.67 130.50    8,145.35   \n",
       "2015-12-06          1.08     78,992.15 1,132.00  71,976.41  72.58    5,811.16   \n",
       "2015-11-29          1.28     51,039.60   941.48  43,838.39  75.78    6,183.95   \n",
       "\n",
       "            Small Bags  Large Bags  XLarge Bags          type  year  region  \n",
       "Date                                                                         \n",
       "2015-12-27    8,603.62       93.25         0.00  conventional  2015  Albany  \n",
       "2015-12-20    9,408.07       97.49         0.00  conventional  2015  Albany  \n",
       "2015-12-13    8,042.21      103.14         0.00  conventional  2015  Albany  \n",
       "2015-12-06    5,677.40      133.76         0.00  conventional  2015  Albany  \n",
       "2015-11-29    5,986.26      197.69         0.00  conventional  2015  Albany  "
      ]
     },
     "execution_count": 63,
     "metadata": {},
     "output_type": "execute_result"
    }
   ],
   "source": [
    "del df['Unnamed: 0']\n",
    "df.head()"
   ]
  },
  {
   "cell_type": "code",
   "execution_count": 64,
   "metadata": {
    "collapsed": true
   },
   "outputs": [],
   "source": [
    "df['Revenue'] = df['Total Volume'] * df['AveragePrice']\n",
    "df['Revenue'] = df['Revenue'].astype(int)"
   ]
  },
  {
   "cell_type": "markdown",
   "metadata": {},
   "source": [
    "#### Which city have the highest avocado sales?"
   ]
  },
  {
   "cell_type": "code",
   "execution_count": 65,
   "metadata": {},
   "outputs": [
    {
     "name": "stdout",
     "output_type": "stream",
     "text": [
      "These are the top 5 largest revenue generating regions:\n"
     ]
    },
    {
     "data": {
      "text/plain": [
       "region\n",
       "TotalUS      6,387,592,930.00\n",
       "California   1,121,413,853.00\n",
       "West         1,066,833,476.00\n",
       "Northeast      960,007,701.00\n",
       "Name: Revenue, dtype: float64"
      ]
     },
     "execution_count": 65,
     "metadata": {},
     "output_type": "execute_result"
    }
   ],
   "source": [
    "Sales_by_region = df.groupby(['region'])['Revenue'].sum()\n",
    "Sales_by_region.values.astype(int)\n",
    "print(\"These are the top 5 largest revenue generating regions:\")\n",
    "Sales_by_region.sort_values(ascending=False)[:4]\n"
   ]
  },
  {
   "cell_type": "code",
   "execution_count": 86,
   "metadata": {},
   "outputs": [
    {
     "name": "stdout",
     "output_type": "stream",
     "text": [
      "region\n",
      "TotalUS        6,387,592,930.00\n",
      "California     1,121,413,853.00\n",
      "West           1,066,833,476.00\n",
      "Northeast        960,007,701.00\n",
      "SouthCentral     874,059,118.00\n",
      "Name: Revenue, dtype: float64\n"
     ]
    },
    {
     "data": {
      "text/plain": [
       "region\n",
       "Syracuse     15,205,026.00\n",
       "Boise        15,346,495.00\n",
       "Spokane      17,156,321.00\n",
       "Louisville   17,495,386.00\n",
       "Albany       21,766,559.00\n",
       "Name: Revenue, dtype: float64"
      ]
     },
     "execution_count": 86,
     "metadata": {},
     "output_type": "execute_result"
    }
   ],
   "source": [
    "p =Sales_by_region\n",
    "p1 = p.nlargest(5,'first')\n",
    "p2 = p.nsmallest(5,'first')\n",
    "print(p1)\n",
    "p2"
   ]
  },
  {
   "cell_type": "markdown",
   "metadata": {},
   "source": [
    "#### Which region have the highest avocado average price?"
   ]
  },
  {
   "cell_type": "code",
   "execution_count": 32,
   "metadata": {},
   "outputs": [
    {
     "name": "stdout",
     "output_type": "stream",
     "text": [
      "These are the top 5 largest average price by regions:\n"
     ]
    },
    {
     "data": {
      "text/plain": [
       "region\n",
       "HartfordSpringfield    1.818639\n",
       "SanFrancisco           1.804201\n",
       "NewYork                1.727574\n",
       "Philadelphia           1.632130\n",
       "Name: AveragePrice, dtype: float64"
      ]
     },
     "execution_count": 32,
     "metadata": {},
     "output_type": "execute_result"
    }
   ],
   "source": [
    "price_by_region = df.groupby(['region'])['AveragePrice'].mean()\n",
    "print(\"These are the top 5 largest average price by regions:\")\n",
    "price_by_region.sort_values(ascending=False)[:4]"
   ]
  },
  {
   "cell_type": "code",
   "execution_count": null,
   "metadata": {
    "collapsed": true
   },
   "outputs": [],
   "source": [
    "p=price_by_region.sort_values(ascending=False)\n"
   ]
  },
  {
   "cell_type": "markdown",
   "metadata": {},
   "source": [
    "#### What is the average price for Avocado across the year in all region?"
   ]
  },
  {
   "cell_type": "code",
   "execution_count": 27,
   "metadata": {},
   "outputs": [
    {
     "data": {
      "text/plain": [
       "year\n",
       "2017    1.515128\n",
       "2015    1.375590\n",
       "2018    1.347531\n",
       "2016    1.338640\n",
       "Name: AveragePrice, dtype: float64"
      ]
     },
     "execution_count": 27,
     "metadata": {},
     "output_type": "execute_result"
    }
   ],
   "source": [
    "Price_by_year = df.groupby(['year'])['AveragePrice'].mean()\n",
    "Price_by_year.sort_values(ascending=False)"
   ]
  },
  {
   "cell_type": "markdown",
   "metadata": {},
   "source": [
    "#### What is the total revenue by year for each region?"
   ]
  },
  {
   "cell_type": "code",
   "execution_count": 66,
   "metadata": {},
   "outputs": [
    {
     "data": {
      "text/plain": [
       "region      year\n",
       "TotalUS     2017   2,250,703,956.00\n",
       "            2016   1,884,641,431.00\n",
       "            2015   1,693,556,955.00\n",
       "            2018     558,690,588.00\n",
       "California  2017     386,774,729.00\n",
       "                         ...       \n",
       "Albany      2018       2,045,262.00\n",
       "Louisville  2018       1,543,752.00\n",
       "Spokane     2018       1,446,194.00\n",
       "Boise       2018       1,438,535.00\n",
       "Syracuse    2018       1,309,812.00\n",
       "Name: Revenue, Length: 216, dtype: float64"
      ]
     },
     "execution_count": 66,
     "metadata": {},
     "output_type": "execute_result"
    }
   ],
   "source": [
    "revenue_by_year = df.groupby(['region','year'])['Revenue'].sum()\n",
    "revenue_by_year.sort_values(ascending=False)"
   ]
  },
  {
   "cell_type": "markdown",
   "metadata": {},
   "source": [
    "#### What is the total revenue for each region?"
   ]
  },
  {
   "cell_type": "code",
   "execution_count": 70,
   "metadata": {},
   "outputs": [
    {
     "data": {
      "text/html": [
       "<div>\n",
       "<style>\n",
       "    .dataframe thead tr:only-child th {\n",
       "        text-align: right;\n",
       "    }\n",
       "\n",
       "    .dataframe thead th {\n",
       "        text-align: left;\n",
       "    }\n",
       "\n",
       "    .dataframe tbody tr th {\n",
       "        vertical-align: top;\n",
       "    }\n",
       "</style>\n",
       "<table border=\"1\" class=\"dataframe\">\n",
       "  <thead>\n",
       "    <tr style=\"text-align: right;\">\n",
       "      <th></th>\n",
       "      <th>Revenue</th>\n",
       "      <th>AveragePrice</th>\n",
       "      <th>Total Volume</th>\n",
       "    </tr>\n",
       "    <tr>\n",
       "      <th>year</th>\n",
       "      <th></th>\n",
       "      <th></th>\n",
       "      <th></th>\n",
       "    </tr>\n",
       "  </thead>\n",
       "  <tbody>\n",
       "    <tr>\n",
       "      <th>2015</th>\n",
       "      <td>4,488,445,576.00</td>\n",
       "      <td>1.38</td>\n",
       "      <td>4,385,468,662.04</td>\n",
       "    </tr>\n",
       "    <tr>\n",
       "      <th>2016</th>\n",
       "      <td>4,997,587,166.00</td>\n",
       "      <td>1.34</td>\n",
       "      <td>4,820,889,891.83</td>\n",
       "    </tr>\n",
       "    <tr>\n",
       "      <th>2017</th>\n",
       "      <td>5,965,747,148.00</td>\n",
       "      <td>1.52</td>\n",
       "      <td>4,934,305,699.27</td>\n",
       "    </tr>\n",
       "    <tr>\n",
       "      <th>2018</th>\n",
       "      <td>1,482,341,961.00</td>\n",
       "      <td>1.35</td>\n",
       "      <td>1,382,738,340.26</td>\n",
       "    </tr>\n",
       "  </tbody>\n",
       "</table>\n",
       "</div>"
      ],
      "text/plain": [
       "              Revenue  AveragePrice     Total Volume\n",
       "year                                                \n",
       "2015 4,488,445,576.00          1.38 4,385,468,662.04\n",
       "2016 4,997,587,166.00          1.34 4,820,889,891.83\n",
       "2017 5,965,747,148.00          1.52 4,934,305,699.27\n",
       "2018 1,482,341,961.00          1.35 1,382,738,340.26"
      ]
     },
     "execution_count": 70,
     "metadata": {},
     "output_type": "execute_result"
    }
   ],
   "source": [
    "aggregate_by_year = df.groupby(['year']).agg({'Revenue': np.sum, \n",
    "                                            'AveragePrice': np.mean,\n",
    "                                            'Total Volume': np.sum})\n",
    "aggregate_by_year"
   ]
  },
  {
   "cell_type": "markdown",
   "metadata": {},
   "source": [
    "#### Code to be fix"
   ]
  },
  {
   "cell_type": "code",
   "execution_count": 200,
   "metadata": {},
   "outputs": [
    {
     "data": {
      "text/html": [
       "<div>\n",
       "<style>\n",
       "    .dataframe thead tr:only-child th {\n",
       "        text-align: right;\n",
       "    }\n",
       "\n",
       "    .dataframe thead th {\n",
       "        text-align: left;\n",
       "    }\n",
       "\n",
       "    .dataframe tbody tr th {\n",
       "        vertical-align: top;\n",
       "    }\n",
       "</style>\n",
       "<table border=\"1\" class=\"dataframe\">\n",
       "  <thead>\n",
       "    <tr style=\"text-align: right;\">\n",
       "      <th></th>\n",
       "      <th>region</th>\n",
       "      <th>year</th>\n",
       "      <th>Revenue</th>\n",
       "    </tr>\n",
       "  </thead>\n",
       "  <tbody>\n",
       "    <tr>\n",
       "      <th>0</th>\n",
       "      <td>Albany</td>\n",
       "      <td>2015</td>\n",
       "      <td>4,764,464.00</td>\n",
       "    </tr>\n",
       "    <tr>\n",
       "      <th>1</th>\n",
       "      <td>Albany</td>\n",
       "      <td>2016</td>\n",
       "      <td>7,009,168.00</td>\n",
       "    </tr>\n",
       "    <tr>\n",
       "      <th>2</th>\n",
       "      <td>Albany</td>\n",
       "      <td>2017</td>\n",
       "      <td>7,947,665.00</td>\n",
       "    </tr>\n",
       "    <tr>\n",
       "      <th>3</th>\n",
       "      <td>Albany</td>\n",
       "      <td>2018</td>\n",
       "      <td>2,045,262.00</td>\n",
       "    </tr>\n",
       "    <tr>\n",
       "      <th>4</th>\n",
       "      <td>Atlanta</td>\n",
       "      <td>2015</td>\n",
       "      <td>24,515,411.00</td>\n",
       "    </tr>\n",
       "    <tr>\n",
       "      <th>...</th>\n",
       "      <td>...</td>\n",
       "      <td>...</td>\n",
       "      <td>...</td>\n",
       "    </tr>\n",
       "    <tr>\n",
       "      <th>211</th>\n",
       "      <td>West</td>\n",
       "      <td>2018</td>\n",
       "      <td>91,935,797.00</td>\n",
       "    </tr>\n",
       "    <tr>\n",
       "      <th>212</th>\n",
       "      <td>WestTexNewMexico</td>\n",
       "      <td>2015</td>\n",
       "      <td>32,242,424.00</td>\n",
       "    </tr>\n",
       "    <tr>\n",
       "      <th>213</th>\n",
       "      <td>WestTexNewMexico</td>\n",
       "      <td>2016</td>\n",
       "      <td>36,941,933.00</td>\n",
       "    </tr>\n",
       "    <tr>\n",
       "      <th>214</th>\n",
       "      <td>WestTexNewMexico</td>\n",
       "      <td>2017</td>\n",
       "      <td>42,162,206.00</td>\n",
       "    </tr>\n",
       "    <tr>\n",
       "      <th>215</th>\n",
       "      <td>WestTexNewMexico</td>\n",
       "      <td>2018</td>\n",
       "      <td>10,218,689.00</td>\n",
       "    </tr>\n",
       "  </tbody>\n",
       "</table>\n",
       "<p>216 rows × 3 columns</p>\n",
       "</div>"
      ],
      "text/plain": [
       "               region  year       Revenue\n",
       "0              Albany  2015  4,764,464.00\n",
       "1              Albany  2016  7,009,168.00\n",
       "2              Albany  2017  7,947,665.00\n",
       "3              Albany  2018  2,045,262.00\n",
       "4             Atlanta  2015 24,515,411.00\n",
       "..                ...   ...           ...\n",
       "211              West  2018 91,935,797.00\n",
       "212  WestTexNewMexico  2015 32,242,424.00\n",
       "213  WestTexNewMexico  2016 36,941,933.00\n",
       "214  WestTexNewMexico  2017 42,162,206.00\n",
       "215  WestTexNewMexico  2018 10,218,689.00\n",
       "\n",
       "[216 rows x 3 columns]"
      ]
     },
     "execution_count": 200,
     "metadata": {},
     "output_type": "execute_result"
    }
   ],
   "source": [
    "revenue_by_region = df.groupby(['region','year'])['Revenue'].sum()\n",
    "rev1 = revenue_by_region.reset_index()\n",
    "rev1.sort_index(axis=0, level=['region', 'Revenue'], ascending=True)"
   ]
  },
  {
   "cell_type": "code",
   "execution_count": 204,
   "metadata": {},
   "outputs": [
    {
     "name": "stdout",
     "output_type": "stream",
     "text": [
      "region            year\n",
      "Albany            2015    4,764,464.00\n",
      "                  2016    7,009,168.00\n",
      "                  2017    7,947,665.00\n",
      "                  2018    2,045,262.00\n",
      "Atlanta           2015   24,515,411.00\n",
      "                              ...     \n",
      "West              2018   91,935,797.00\n",
      "WestTexNewMexico  2015   32,242,424.00\n",
      "                  2016   36,941,933.00\n",
      "                  2017   42,162,206.00\n",
      "                  2018   10,218,689.00\n",
      "Name: Revenue, Length: 216, dtype: float64\n"
     ]
    },
    {
     "data": {
      "text/plain": [
       "region            year\n",
       "Albany            2015    26.00\n",
       "                  2016    41.00\n",
       "                  2017    47.00\n",
       "                  2018     5.00\n",
       "Atlanta           2015   120.00\n",
       "                          ...  \n",
       "West              2018   183.00\n",
       "WestTexNewMexico  2015   139.00\n",
       "                  2016   146.00\n",
       "                  2017   155.00\n",
       "                  2018    63.00\n",
       "Name: Revenue, Length: 216, dtype: float64"
      ]
     },
     "execution_count": 204,
     "metadata": {},
     "output_type": "execute_result"
    }
   ],
   "source": [
    "print(revenue_by_region)\n",
    "revenue_by_region.rank()"
   ]
  },
  {
   "cell_type": "code",
   "execution_count": 152,
   "metadata": {},
   "outputs": [
    {
     "data": {
      "text/html": [
       "<div>\n",
       "<style>\n",
       "    .dataframe thead tr:only-child th {\n",
       "        text-align: right;\n",
       "    }\n",
       "\n",
       "    .dataframe thead th {\n",
       "        text-align: left;\n",
       "    }\n",
       "\n",
       "    .dataframe tbody tr th {\n",
       "        vertical-align: top;\n",
       "    }\n",
       "</style>\n",
       "<table border=\"1\" class=\"dataframe\">\n",
       "  <thead>\n",
       "    <tr style=\"text-align: right;\">\n",
       "      <th></th>\n",
       "      <th>Revenue</th>\n",
       "      <th>AveragePrice</th>\n",
       "    </tr>\n",
       "    <tr>\n",
       "      <th>region</th>\n",
       "      <th></th>\n",
       "      <th></th>\n",
       "    </tr>\n",
       "  </thead>\n",
       "  <tbody>\n",
       "    <tr>\n",
       "      <th>TotalUS</th>\n",
       "      <td>6,387,592,930.00</td>\n",
       "      <td>1.32</td>\n",
       "    </tr>\n",
       "    <tr>\n",
       "      <th>California</th>\n",
       "      <td>1,121,413,853.00</td>\n",
       "      <td>1.40</td>\n",
       "    </tr>\n",
       "    <tr>\n",
       "      <th>West</th>\n",
       "      <td>1,066,833,476.00</td>\n",
       "      <td>1.27</td>\n",
       "    </tr>\n",
       "    <tr>\n",
       "      <th>Northeast</th>\n",
       "      <td>960,007,701.00</td>\n",
       "      <td>1.60</td>\n",
       "    </tr>\n",
       "    <tr>\n",
       "      <th>SouthCentral</th>\n",
       "      <td>874,059,118.00</td>\n",
       "      <td>1.10</td>\n",
       "    </tr>\n",
       "    <tr>\n",
       "      <th>...</th>\n",
       "      <td>...</td>\n",
       "      <td>...</td>\n",
       "    </tr>\n",
       "    <tr>\n",
       "      <th>Albany</th>\n",
       "      <td>21,766,559.00</td>\n",
       "      <td>1.56</td>\n",
       "    </tr>\n",
       "    <tr>\n",
       "      <th>Louisville</th>\n",
       "      <td>17,495,386.00</td>\n",
       "      <td>1.29</td>\n",
       "    </tr>\n",
       "    <tr>\n",
       "      <th>Spokane</th>\n",
       "      <td>17,156,321.00</td>\n",
       "      <td>1.45</td>\n",
       "    </tr>\n",
       "    <tr>\n",
       "      <th>Boise</th>\n",
       "      <td>15,346,495.00</td>\n",
       "      <td>1.35</td>\n",
       "    </tr>\n",
       "    <tr>\n",
       "      <th>Syracuse</th>\n",
       "      <td>15,205,026.00</td>\n",
       "      <td>1.52</td>\n",
       "    </tr>\n",
       "  </tbody>\n",
       "</table>\n",
       "<p>54 rows × 2 columns</p>\n",
       "</div>"
      ],
      "text/plain": [
       "                      Revenue  AveragePrice\n",
       "region                                     \n",
       "TotalUS      6,387,592,930.00          1.32\n",
       "California   1,121,413,853.00          1.40\n",
       "West         1,066,833,476.00          1.27\n",
       "Northeast      960,007,701.00          1.60\n",
       "SouthCentral   874,059,118.00          1.10\n",
       "...                       ...           ...\n",
       "Albany          21,766,559.00          1.56\n",
       "Louisville      17,495,386.00          1.29\n",
       "Spokane         17,156,321.00          1.45\n",
       "Boise           15,346,495.00          1.35\n",
       "Syracuse        15,205,026.00          1.52\n",
       "\n",
       "[54 rows x 2 columns]"
      ]
     },
     "execution_count": 152,
     "metadata": {},
     "output_type": "execute_result"
    }
   ],
   "source": [
    "price_rev_region = df.groupby(['region']).agg({'Revenue':sum, \n",
    "                                               'AveragePrice': np.mean})\n",
    "reg = price_rev_region.sort_values(by=['Revenue'], ascending=False)\n",
    "reg"
   ]
  },
  {
   "cell_type": "code",
   "execution_count": 145,
   "metadata": {},
   "outputs": [
    {
     "data": {
      "text/plain": [
       "<matplotlib.figure.Figure at 0x22c61e300f0>"
      ]
     },
     "metadata": {},
     "output_type": "display_data"
    }
   ],
   "source": [
    "fig = plt.figure(figsize=(18,12))\n",
    "ax = fig.clf()"
   ]
  },
  {
   "cell_type": "code",
   "execution_count": 153,
   "metadata": {},
   "outputs": [
    {
     "data": {
      "text/plain": [
       "<matplotlib.axes._subplots.AxesSubplot at 0x22c633e3908>"
      ]
     },
     "execution_count": 153,
     "metadata": {},
     "output_type": "execute_result"
    },
    {
     "data": {
      "image/png": "[encoded data removed]",
      "text/plain": [
       "<matplotlib.figure.Figure at 0x22c634bc828>"
      ]
     },
     "metadata": {},
     "output_type": "display_data"
    }
   ],
   "source": [
    "reg.plot(ax=ax,x=reg.index, y='Revenue', kind='bar', figsize=(10,6))\n"
   ]
  },
  {
   "cell_type": "code",
   "execution_count": null,
   "metadata": {
    "collapsed": true
   },
   "outputs": [],
   "source": []
  }
 ],
 "metadata": {
  "kernelspec": {
   "display_name": "Python [default]",
   "language": "python",
   "name": "python3"
  },
  "language_info": {
   "codemirror_mode": {
    "name": "ipython",
    "version": 3
   },
   "file_extension": ".py",
   "mimetype": "text/x-python",
   "name": "python",
   "nbconvert_exporter": "python",
   "pygments_lexer": "ipython3",
   "version": "3.6.3"
  }
 },
 "nbformat": 4,
 "nbformat_minor": 2
}
