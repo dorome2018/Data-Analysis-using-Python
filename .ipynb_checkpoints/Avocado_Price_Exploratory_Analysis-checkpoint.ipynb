{
 "cells": [
  {
   "cell_type": "code",
   "execution_count": 1,
   "metadata": {
    "collapsed": true
   },
   "outputs": [],
   "source": [
    "import pandas as pd\n",
    "import numpy as np"
   ]
  },
  {
   "cell_type": "code",
   "execution_count": 2,
   "metadata": {
    "collapsed": true
   },
   "outputs": [],
   "source": [
    "# loading the data into the notebook\n",
    "df = pd.read_csv(r\"C:\\Users\\Dorome\\Documents\\GitHub\\Data-Analysis-using-Python\\Dataset\\avocado.csv\",\n",
    "                index_col='Date')"
   ]
  },
  {
   "cell_type": "code",
   "execution_count": 3,
   "metadata": {},
   "outputs": [
    {
     "data": {
      "text/html": [
       "<div>\n",
       "<style>\n",
       "    .dataframe thead tr:only-child th {\n",
       "        text-align: right;\n",
       "    }\n",
       "\n",
       "    .dataframe thead th {\n",
       "        text-align: left;\n",
       "    }\n",
       "\n",
       "    .dataframe tbody tr th {\n",
       "        vertical-align: top;\n",
       "    }\n",
       "</style>\n",
       "<table border=\"1\" class=\"dataframe\">\n",
       "  <thead>\n",
       "    <tr style=\"text-align: right;\">\n",
       "      <th></th>\n",
       "      <th>Unnamed: 0</th>\n",
       "      <th>AveragePrice</th>\n",
       "      <th>Total Volume</th>\n",
       "      <th>4046</th>\n",
       "      <th>4225</th>\n",
       "      <th>4770</th>\n",
       "      <th>Total Bags</th>\n",
       "      <th>Small Bags</th>\n",
       "      <th>Large Bags</th>\n",
       "      <th>XLarge Bags</th>\n",
       "      <th>type</th>\n",
       "      <th>year</th>\n",
       "      <th>region</th>\n",
       "    </tr>\n",
       "    <tr>\n",
       "      <th>Date</th>\n",
       "      <th></th>\n",
       "      <th></th>\n",
       "      <th></th>\n",
       "      <th></th>\n",
       "      <th></th>\n",
       "      <th></th>\n",
       "      <th></th>\n",
       "      <th></th>\n",
       "      <th></th>\n",
       "      <th></th>\n",
       "      <th></th>\n",
       "      <th></th>\n",
       "      <th></th>\n",
       "    </tr>\n",
       "  </thead>\n",
       "  <tbody>\n",
       "    <tr>\n",
       "      <th>2015-12-27</th>\n",
       "      <td>0</td>\n",
       "      <td>1.33</td>\n",
       "      <td>64236.62</td>\n",
       "      <td>1036.74</td>\n",
       "      <td>54454.85</td>\n",
       "      <td>48.16</td>\n",
       "      <td>8696.87</td>\n",
       "      <td>8603.62</td>\n",
       "      <td>93.25</td>\n",
       "      <td>0.0</td>\n",
       "      <td>conventional</td>\n",
       "      <td>2015</td>\n",
       "      <td>Albany</td>\n",
       "    </tr>\n",
       "    <tr>\n",
       "      <th>2015-12-20</th>\n",
       "      <td>1</td>\n",
       "      <td>1.35</td>\n",
       "      <td>54876.98</td>\n",
       "      <td>674.28</td>\n",
       "      <td>44638.81</td>\n",
       "      <td>58.33</td>\n",
       "      <td>9505.56</td>\n",
       "      <td>9408.07</td>\n",
       "      <td>97.49</td>\n",
       "      <td>0.0</td>\n",
       "      <td>conventional</td>\n",
       "      <td>2015</td>\n",
       "      <td>Albany</td>\n",
       "    </tr>\n",
       "    <tr>\n",
       "      <th>2015-12-13</th>\n",
       "      <td>2</td>\n",
       "      <td>0.93</td>\n",
       "      <td>118220.22</td>\n",
       "      <td>794.70</td>\n",
       "      <td>109149.67</td>\n",
       "      <td>130.50</td>\n",
       "      <td>8145.35</td>\n",
       "      <td>8042.21</td>\n",
       "      <td>103.14</td>\n",
       "      <td>0.0</td>\n",
       "      <td>conventional</td>\n",
       "      <td>2015</td>\n",
       "      <td>Albany</td>\n",
       "    </tr>\n",
       "    <tr>\n",
       "      <th>2015-12-06</th>\n",
       "      <td>3</td>\n",
       "      <td>1.08</td>\n",
       "      <td>78992.15</td>\n",
       "      <td>1132.00</td>\n",
       "      <td>71976.41</td>\n",
       "      <td>72.58</td>\n",
       "      <td>5811.16</td>\n",
       "      <td>5677.40</td>\n",
       "      <td>133.76</td>\n",
       "      <td>0.0</td>\n",
       "      <td>conventional</td>\n",
       "      <td>2015</td>\n",
       "      <td>Albany</td>\n",
       "    </tr>\n",
       "    <tr>\n",
       "      <th>2015-11-29</th>\n",
       "      <td>4</td>\n",
       "      <td>1.28</td>\n",
       "      <td>51039.60</td>\n",
       "      <td>941.48</td>\n",
       "      <td>43838.39</td>\n",
       "      <td>75.78</td>\n",
       "      <td>6183.95</td>\n",
       "      <td>5986.26</td>\n",
       "      <td>197.69</td>\n",
       "      <td>0.0</td>\n",
       "      <td>conventional</td>\n",
       "      <td>2015</td>\n",
       "      <td>Albany</td>\n",
       "    </tr>\n",
       "  </tbody>\n",
       "</table>\n",
       "</div>"
      ],
      "text/plain": [
       "            Unnamed: 0  AveragePrice  Total Volume     4046       4225  \\\n",
       "Date                                                                     \n",
       "2015-12-27           0          1.33      64236.62  1036.74   54454.85   \n",
       "2015-12-20           1          1.35      54876.98   674.28   44638.81   \n",
       "2015-12-13           2          0.93     118220.22   794.70  109149.67   \n",
       "2015-12-06           3          1.08      78992.15  1132.00   71976.41   \n",
       "2015-11-29           4          1.28      51039.60   941.48   43838.39   \n",
       "\n",
       "              4770  Total Bags  Small Bags  Large Bags  XLarge Bags  \\\n",
       "Date                                                                  \n",
       "2015-12-27   48.16     8696.87     8603.62       93.25          0.0   \n",
       "2015-12-20   58.33     9505.56     9408.07       97.49          0.0   \n",
       "2015-12-13  130.50     8145.35     8042.21      103.14          0.0   \n",
       "2015-12-06   72.58     5811.16     5677.40      133.76          0.0   \n",
       "2015-11-29   75.78     6183.95     5986.26      197.69          0.0   \n",
       "\n",
       "                    type  year  region  \n",
       "Date                                    \n",
       "2015-12-27  conventional  2015  Albany  \n",
       "2015-12-20  conventional  2015  Albany  \n",
       "2015-12-13  conventional  2015  Albany  \n",
       "2015-12-06  conventional  2015  Albany  \n",
       "2015-11-29  conventional  2015  Albany  "
      ]
     },
     "execution_count": 3,
     "metadata": {},
     "output_type": "execute_result"
    }
   ],
   "source": [
    "df.head()"
   ]
  },
  {
   "cell_type": "code",
   "execution_count": 4,
   "metadata": {},
   "outputs": [
    {
     "name": "stdout",
     "output_type": "stream",
     "text": [
      "<class 'pandas.core.frame.DataFrame'>\n",
      "Index: 18249 entries, 2015-12-27 to 2018-01-07\n",
      "Data columns (total 13 columns):\n",
      "Unnamed: 0      18249 non-null int64\n",
      "AveragePrice    18249 non-null float64\n",
      "Total Volume    18249 non-null float64\n",
      "4046            18249 non-null float64\n",
      "4225            18249 non-null float64\n",
      "4770            18249 non-null float64\n",
      "Total Bags      18249 non-null float64\n",
      "Small Bags      18249 non-null float64\n",
      "Large Bags      18249 non-null float64\n",
      "XLarge Bags     18249 non-null float64\n",
      "type            18249 non-null object\n",
      "year            18249 non-null int64\n",
      "region          18249 non-null object\n",
      "dtypes: float64(9), int64(2), object(2)\n",
      "memory usage: 1.9+ MB\n"
     ]
    }
   ],
   "source": [
    "df.info()"
   ]
  },
  {
   "cell_type": "code",
   "execution_count": 5,
   "metadata": {},
   "outputs": [
    {
     "name": "stdout",
     "output_type": "stream",
     "text": [
      "The number of rows: 18249\n",
      "The number of columns: 13\n"
     ]
    }
   ],
   "source": [
    "n_row, n_column = df.shape\n",
    "print('The number of rows:', n_row)\n",
    "print('The number of columns:', n_column)\n"
   ]
  },
  {
   "cell_type": "code",
   "execution_count": 6,
   "metadata": {},
   "outputs": [
    {
     "data": {
      "text/plain": [
       "DatetimeIndex(['2015-12-27', '2015-12-20', '2015-12-13', '2015-12-06',\n",
       "               '2015-11-29', '2015-11-22', '2015-11-15', '2015-11-08',\n",
       "               '2015-11-01', '2015-10-25',\n",
       "               ...\n",
       "               '2018-03-11', '2018-03-04', '2018-02-25', '2018-02-18',\n",
       "               '2018-02-11', '2018-02-04', '2018-01-28', '2018-01-21',\n",
       "               '2018-01-14', '2018-01-07'],\n",
       "              dtype='datetime64[ns]', name='Date', length=18249, freq=None)"
      ]
     },
     "execution_count": 6,
     "metadata": {},
     "output_type": "execute_result"
    }
   ],
   "source": [
    "df.index = pd.to_datetime(df.index)\n",
    "df.index"
   ]
  },
  {
   "cell_type": "code",
   "execution_count": 7,
   "metadata": {},
   "outputs": [
    {
     "name": "stdout",
     "output_type": "stream",
     "text": [
      "This is the first date in the dataset: 2015-12-27 00:00:00\n",
      "\n",
      "This is the last date in the dataset: 2018-01-07 00:00:00\n"
     ]
    }
   ],
   "source": [
    "print('This is the first date in the dataset:', df.index[0])\n",
    "print()\n",
    "print('This is the last date in the dataset:', df.index[-1])\n"
   ]
  },
  {
   "cell_type": "code",
   "execution_count": 8,
   "metadata": {},
   "outputs": [
    {
     "name": "stdout",
     "output_type": "stream",
     "text": [
      "The number of regions in the Dataset is: 54\n"
     ]
    }
   ],
   "source": [
    "n_region = df['region']. nunique()\n",
    "print('The number of regions in the Dataset is:', n_region)"
   ]
  },
  {
   "cell_type": "code",
   "execution_count": 9,
   "metadata": {},
   "outputs": [
    {
     "name": "stdout",
     "output_type": "stream",
     "text": [
      "This is the list of the different Regions: ['Albany' 'Atlanta' 'BaltimoreWashington' 'Boise' 'Boston'\n",
      " 'BuffaloRochester' 'California' 'Charlotte' 'Chicago' 'CincinnatiDayton'\n",
      " 'Columbus' 'DallasFtWorth' 'Denver' 'Detroit' 'GrandRapids' 'GreatLakes'\n",
      " 'HarrisburgScranton' 'HartfordSpringfield' 'Houston' 'Indianapolis'\n",
      " 'Jacksonville' 'LasVegas' 'LosAngeles' 'Louisville' 'MiamiFtLauderdale'\n",
      " 'Midsouth' 'Nashville' 'NewOrleansMobile' 'NewYork' 'Northeast'\n",
      " 'NorthernNewEngland' 'Orlando' 'Philadelphia' 'PhoenixTucson' 'Pittsburgh'\n",
      " 'Plains' 'Portland' 'RaleighGreensboro' 'RichmondNorfolk' 'Roanoke'\n",
      " 'Sacramento' 'SanDiego' 'SanFrancisco' 'Seattle' 'SouthCarolina'\n",
      " 'SouthCentral' 'Southeast' 'Spokane' 'StLouis' 'Syracuse' 'Tampa'\n",
      " 'TotalUS' 'West' 'WestTexNewMexico']\n"
     ]
    }
   ],
   "source": [
    "region_name = df['region'].unique()\n",
    "print('This is the list of the different Regions:')\n",
    "region_name"
   ]
  },
  {
   "cell_type": "code",
   "execution_count": null,
   "metadata": {
    "collapsed": true
   },
   "outputs": [],
   "source": [
    "type_name = df['type'].unique()\n",
    "print('This is the list of the different types of Avocado:')\n",
    "type_name"
   ]
  },
  {
   "cell_type": "markdown",
   "metadata": {},
   "source": [
    "#### Missing Data Analysis"
   ]
  },
  {
   "cell_type": "code",
   "execution_count": 10,
   "metadata": {
    "collapsed": true
   },
   "outputs": [],
   "source": [
    "def count_missing(vec):\n",
    "    null_vec = pd.isnull(vec)\n",
    "    null_count = np.sum(null_vec)\n",
    "    return(null_count)"
   ]
  },
  {
   "cell_type": "code",
   "execution_count": 11,
   "metadata": {
    "scrolled": true
   },
   "outputs": [
    {
     "name": "stdout",
     "output_type": "stream",
     "text": [
      "Missing data count by columns\n",
      "\n",
      "Unnamed: 0      0\n",
      "AveragePrice    0\n",
      "Total Volume    0\n",
      "4046            0\n",
      "4225            0\n",
      "4770            0\n",
      "Total Bags      0\n",
      "Small Bags      0\n",
      "Large Bags      0\n",
      "XLarge Bags     0\n",
      "type            0\n",
      "year            0\n",
      "region          0\n",
      "dtype: int64\n"
     ]
    }
   ],
   "source": [
    "# counting missing data within columns\n",
    "missing_data = df.apply(count_missing)\n",
    "print('Missing data count by columns')\n",
    "print()\n",
    "print(missing_data)"
   ]
  }
 ],
 "metadata": {
  "kernelspec": {
   "display_name": "Python [default]",
   "language": "python",
   "name": "python3"
  },
  "language_info": {
   "codemirror_mode": {
    "name": "ipython",
    "version": 3
   },
   "file_extension": ".py",
   "mimetype": "text/x-python",
   "name": "python",
   "nbconvert_exporter": "python",
   "pygments_lexer": "ipython3",
   "version": "3.6.3"
  }
 },
 "nbformat": 4,
 "nbformat_minor": 2
}
